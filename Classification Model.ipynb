{
 "cells": [
  {
   "cell_type": "code",
   "execution_count": 18,
   "metadata": {},
   "outputs": [
    {
     "name": "stdout",
     "output_type": "stream",
     "text": [
      "      Year   Urban Area            Functional Class  Functional Class Code  \\\n",
      "0     2011        Rural                  Interstate                      1   \n",
      "1     2011        Rural        Other Princ Arterial                      2   \n",
      "2     2011        Rural              Minor Arterial                      6   \n",
      "3     2011        Rural             Major Collector                      7   \n",
      "4     2011        Rural             Minor Collector                      8   \n",
      "...    ...          ...                         ...                    ...   \n",
      "1695  2003    Urbanized  Collector/Major Collector*                     17   \n",
      "1696  2008        Rural                  Interstate                      1   \n",
      "1697  2008  Small Urban        Other Princ Arterial                     14   \n",
      "1698  1988    Urbanized             Minor Collector                     18   \n",
      "1699  2000    Urbanized                  Interstate                     11   \n",
      "\n",
      "      Vehicle Miles Travelled  \n",
      "0                     16852.0  \n",
      "1                     10464.0  \n",
      "2                     12987.0  \n",
      "3                     11302.0  \n",
      "4                     25683.0  \n",
      "...                       ...  \n",
      "1695                  19944.0  \n",
      "1696                  16874.0  \n",
      "1697                   3292.0  \n",
      "1698                      NaN  \n",
      "1699                  44824.0  \n",
      "\n",
      "[1700 rows x 5 columns]\n"
     ]
    }
   ],
   "source": [
    "import matplotlib.pyplot as plt\n",
    "import numpy as np\n",
    "import pandas as pd\n",
    "from sklearn.preprocessing import LabelEncoder\n",
    "from sklearn.model_selection import train_test_split\n",
    "from sklearn import datasets,linear_model\n",
    "from matplotlib import pyplot\n",
    "\n",
    "#Importing the data file present in csv format\n",
    "file_name = \"C:/Users/akhil/OneDrive/Desktop/Machine Learning/Daily_Vehicle_Miles_of_Travel__Beginning_1985.csv\"\n",
    "#reading the data in file\n",
    "data = pd.read_csv(file_name)\n",
    "print(data)\n"
   ]
  },
  {
   "cell_type": "code",
   "execution_count": 19,
   "metadata": {},
   "outputs": [
    {
     "name": "stdout",
     "output_type": "stream",
     "text": [
      "      Year   Urban Area  Functional Class Code  Vehicle Miles Travelled\n",
      "0     2011        Rural                      1                  16852.0\n",
      "1     2011        Rural                      2                  10464.0\n",
      "2     2011        Rural                      6                  12987.0\n",
      "3     2011        Rural                      7                  11302.0\n",
      "4     2011        Rural                      8                  25683.0\n",
      "...    ...          ...                    ...                      ...\n",
      "1695  2003    Urbanized                     17                  19944.0\n",
      "1696  2008        Rural                      1                  16874.0\n",
      "1697  2008  Small Urban                     14                   3292.0\n",
      "1698  1988    Urbanized                     18                      NaN\n",
      "1699  2000    Urbanized                     11                  44824.0\n",
      "\n",
      "[1700 rows x 4 columns]\n"
     ]
    }
   ],
   "source": [
    "#Droping the unwanted column\n",
    "data = data.drop('Functional Class',axis = 1)\n",
    "print(data)"
   ]
  },
  {
   "cell_type": "code",
   "execution_count": 20,
   "metadata": {},
   "outputs": [
    {
     "name": "stderr",
     "output_type": "stream",
     "text": [
      "C:\\Users\\akhil\\Anaconda3\\lib\\site-packages\\ipykernel_launcher.py:7: FutureWarning: \n",
      ".ix is deprecated. Please use\n",
      ".loc for label based indexing or\n",
      ".iloc for positional indexing\n",
      "\n",
      "See the documentation here:\n",
      "http://pandas.pydata.org/pandas-docs/stable/user_guide/indexing.html#ix-indexer-is-deprecated\n",
      "  import sys\n",
      "C:\\Users\\akhil\\Anaconda3\\lib\\site-packages\\pandas\\core\\indexing.py:822: FutureWarning: \n",
      ".ix is deprecated. Please use\n",
      ".loc for label based indexing or\n",
      ".iloc for positional indexing\n",
      "\n",
      "See the documentation here:\n",
      "http://pandas.pydata.org/pandas-docs/stable/user_guide/indexing.html#ix-indexer-is-deprecated\n",
      "  retval = getattr(retval, self.name)._getitem_axis(key, axis=i)\n"
     ]
    }
   ],
   "source": [
    "#To shuffel the columns from one place to another.\n",
    "# get a list of columns\n",
    "cols = list(data)\n",
    "# move the column to head of list using index, pop and insert\n",
    "cols.insert(0, cols.pop(cols.index('Urban Area')))\n",
    "cols\n",
    "# use ix to reorder\n",
    "data = data.ix[:, cols]"
   ]
  },
  {
   "cell_type": "code",
   "execution_count": 21,
   "metadata": {},
   "outputs": [
    {
     "data": {
      "text/html": [
       "<div>\n",
       "<style scoped>\n",
       "    .dataframe tbody tr th:only-of-type {\n",
       "        vertical-align: middle;\n",
       "    }\n",
       "\n",
       "    .dataframe tbody tr th {\n",
       "        vertical-align: top;\n",
       "    }\n",
       "\n",
       "    .dataframe thead th {\n",
       "        text-align: right;\n",
       "    }\n",
       "</style>\n",
       "<table border=\"1\" class=\"dataframe\">\n",
       "  <thead>\n",
       "    <tr style=\"text-align: right;\">\n",
       "      <th></th>\n",
       "      <th>Urban Area</th>\n",
       "      <th>Year</th>\n",
       "      <th>Functional Class Code</th>\n",
       "      <th>Vehicle Miles Travelled</th>\n",
       "    </tr>\n",
       "  </thead>\n",
       "  <tbody>\n",
       "    <tr>\n",
       "      <td>0</td>\n",
       "      <td>Rural</td>\n",
       "      <td>2011</td>\n",
       "      <td>1</td>\n",
       "      <td>16852.0</td>\n",
       "    </tr>\n",
       "    <tr>\n",
       "      <td>1</td>\n",
       "      <td>Rural</td>\n",
       "      <td>2011</td>\n",
       "      <td>2</td>\n",
       "      <td>10464.0</td>\n",
       "    </tr>\n",
       "    <tr>\n",
       "      <td>2</td>\n",
       "      <td>Rural</td>\n",
       "      <td>2011</td>\n",
       "      <td>6</td>\n",
       "      <td>12987.0</td>\n",
       "    </tr>\n",
       "    <tr>\n",
       "      <td>3</td>\n",
       "      <td>Rural</td>\n",
       "      <td>2011</td>\n",
       "      <td>7</td>\n",
       "      <td>11302.0</td>\n",
       "    </tr>\n",
       "    <tr>\n",
       "      <td>4</td>\n",
       "      <td>Rural</td>\n",
       "      <td>2011</td>\n",
       "      <td>8</td>\n",
       "      <td>25683.0</td>\n",
       "    </tr>\n",
       "    <tr>\n",
       "      <td>...</td>\n",
       "      <td>...</td>\n",
       "      <td>...</td>\n",
       "      <td>...</td>\n",
       "      <td>...</td>\n",
       "    </tr>\n",
       "    <tr>\n",
       "      <td>1695</td>\n",
       "      <td>Urbanized</td>\n",
       "      <td>2003</td>\n",
       "      <td>17</td>\n",
       "      <td>19944.0</td>\n",
       "    </tr>\n",
       "    <tr>\n",
       "      <td>1696</td>\n",
       "      <td>Rural</td>\n",
       "      <td>2008</td>\n",
       "      <td>1</td>\n",
       "      <td>16874.0</td>\n",
       "    </tr>\n",
       "    <tr>\n",
       "      <td>1697</td>\n",
       "      <td>Small Urban</td>\n",
       "      <td>2008</td>\n",
       "      <td>14</td>\n",
       "      <td>3292.0</td>\n",
       "    </tr>\n",
       "    <tr>\n",
       "      <td>1698</td>\n",
       "      <td>Urbanized</td>\n",
       "      <td>1988</td>\n",
       "      <td>18</td>\n",
       "      <td>NaN</td>\n",
       "    </tr>\n",
       "    <tr>\n",
       "      <td>1699</td>\n",
       "      <td>Urbanized</td>\n",
       "      <td>2000</td>\n",
       "      <td>11</td>\n",
       "      <td>44824.0</td>\n",
       "    </tr>\n",
       "  </tbody>\n",
       "</table>\n",
       "<p>1700 rows × 4 columns</p>\n",
       "</div>"
      ],
      "text/plain": [
       "       Urban Area  Year  Functional Class Code  Vehicle Miles Travelled\n",
       "0           Rural  2011                      1                  16852.0\n",
       "1           Rural  2011                      2                  10464.0\n",
       "2           Rural  2011                      6                  12987.0\n",
       "3           Rural  2011                      7                  11302.0\n",
       "4           Rural  2011                      8                  25683.0\n",
       "...           ...   ...                    ...                      ...\n",
       "1695    Urbanized  2003                     17                  19944.0\n",
       "1696        Rural  2008                      1                  16874.0\n",
       "1697  Small Urban  2008                     14                   3292.0\n",
       "1698    Urbanized  1988                     18                      NaN\n",
       "1699    Urbanized  2000                     11                  44824.0\n",
       "\n",
       "[1700 rows x 4 columns]"
      ]
     },
     "execution_count": 21,
     "metadata": {},
     "output_type": "execute_result"
    }
   ],
   "source": [
    "data"
   ]
  },
  {
   "cell_type": "code",
   "execution_count": 22,
   "metadata": {},
   "outputs": [
    {
     "data": {
      "text/html": [
       "<div>\n",
       "<style scoped>\n",
       "    .dataframe tbody tr th:only-of-type {\n",
       "        vertical-align: middle;\n",
       "    }\n",
       "\n",
       "    .dataframe tbody tr th {\n",
       "        vertical-align: top;\n",
       "    }\n",
       "\n",
       "    .dataframe thead th {\n",
       "        text-align: right;\n",
       "    }\n",
       "</style>\n",
       "<table border=\"1\" class=\"dataframe\">\n",
       "  <thead>\n",
       "    <tr style=\"text-align: right;\">\n",
       "      <th></th>\n",
       "      <th>Urban Area</th>\n",
       "      <th>Year</th>\n",
       "      <th>Functional Class Code</th>\n",
       "      <th>Vehicle Miles Travelled</th>\n",
       "    </tr>\n",
       "  </thead>\n",
       "  <tbody>\n",
       "    <tr>\n",
       "      <td>0</td>\n",
       "      <td>0</td>\n",
       "      <td>2011</td>\n",
       "      <td>1</td>\n",
       "      <td>16852.0</td>\n",
       "    </tr>\n",
       "    <tr>\n",
       "      <td>1</td>\n",
       "      <td>0</td>\n",
       "      <td>2011</td>\n",
       "      <td>2</td>\n",
       "      <td>10464.0</td>\n",
       "    </tr>\n",
       "    <tr>\n",
       "      <td>2</td>\n",
       "      <td>0</td>\n",
       "      <td>2011</td>\n",
       "      <td>6</td>\n",
       "      <td>12987.0</td>\n",
       "    </tr>\n",
       "    <tr>\n",
       "      <td>3</td>\n",
       "      <td>0</td>\n",
       "      <td>2011</td>\n",
       "      <td>7</td>\n",
       "      <td>11302.0</td>\n",
       "    </tr>\n",
       "    <tr>\n",
       "      <td>4</td>\n",
       "      <td>0</td>\n",
       "      <td>2011</td>\n",
       "      <td>8</td>\n",
       "      <td>25683.0</td>\n",
       "    </tr>\n",
       "    <tr>\n",
       "      <td>...</td>\n",
       "      <td>...</td>\n",
       "      <td>...</td>\n",
       "      <td>...</td>\n",
       "      <td>...</td>\n",
       "    </tr>\n",
       "    <tr>\n",
       "      <td>1695</td>\n",
       "      <td>2</td>\n",
       "      <td>2003</td>\n",
       "      <td>17</td>\n",
       "      <td>19944.0</td>\n",
       "    </tr>\n",
       "    <tr>\n",
       "      <td>1696</td>\n",
       "      <td>0</td>\n",
       "      <td>2008</td>\n",
       "      <td>1</td>\n",
       "      <td>16874.0</td>\n",
       "    </tr>\n",
       "    <tr>\n",
       "      <td>1697</td>\n",
       "      <td>1</td>\n",
       "      <td>2008</td>\n",
       "      <td>14</td>\n",
       "      <td>3292.0</td>\n",
       "    </tr>\n",
       "    <tr>\n",
       "      <td>1698</td>\n",
       "      <td>2</td>\n",
       "      <td>1988</td>\n",
       "      <td>18</td>\n",
       "      <td>NaN</td>\n",
       "    </tr>\n",
       "    <tr>\n",
       "      <td>1699</td>\n",
       "      <td>2</td>\n",
       "      <td>2000</td>\n",
       "      <td>11</td>\n",
       "      <td>44824.0</td>\n",
       "    </tr>\n",
       "  </tbody>\n",
       "</table>\n",
       "<p>1700 rows × 4 columns</p>\n",
       "</div>"
      ],
      "text/plain": [
       "      Urban Area  Year  Functional Class Code  Vehicle Miles Travelled\n",
       "0              0  2011                      1                  16852.0\n",
       "1              0  2011                      2                  10464.0\n",
       "2              0  2011                      6                  12987.0\n",
       "3              0  2011                      7                  11302.0\n",
       "4              0  2011                      8                  25683.0\n",
       "...          ...   ...                    ...                      ...\n",
       "1695           2  2003                     17                  19944.0\n",
       "1696           0  2008                      1                  16874.0\n",
       "1697           1  2008                     14                   3292.0\n",
       "1698           2  1988                     18                      NaN\n",
       "1699           2  2000                     11                  44824.0\n",
       "\n",
       "[1700 rows x 4 columns]"
      ]
     },
     "execution_count": 22,
     "metadata": {},
     "output_type": "execute_result"
    }
   ],
   "source": [
    "#Converting Categorical data in Numeric\n",
    "converter = LabelEncoder()\n",
    "data['Urban Area'] = converter.fit_transform(data['Urban Area'].astype(str))\n",
    "data"
   ]
  },
  {
   "cell_type": "code",
   "execution_count": 23,
   "metadata": {},
   "outputs": [
    {
     "name": "stdout",
     "output_type": "stream",
     "text": [
      "Urban Area                 False\n",
      "Year                       False\n",
      "Functional Class Code      False\n",
      "Vehicle Miles Travelled     True\n",
      "dtype: bool\n"
     ]
    }
   ],
   "source": [
    "#Checking for any null values present or not\n",
    "print(data.isnull().any())"
   ]
  },
  {
   "cell_type": "code",
   "execution_count": 24,
   "metadata": {},
   "outputs": [
    {
     "name": "stdout",
     "output_type": "stream",
     "text": [
      "Urban Area                 False\n",
      "Year                       False\n",
      "Functional Class Code      False\n",
      "Vehicle Miles Travelled    False\n",
      "dtype: bool\n"
     ]
    }
   ],
   "source": [
    "#Delete row with dummy value with Nan\n",
    "data = data.dropna()\n",
    "print(data.isnull().any())"
   ]
  },
  {
   "cell_type": "code",
   "execution_count": 25,
   "metadata": {},
   "outputs": [
    {
     "data": {
      "text/plain": [
       "Urban Area                   int32\n",
       "Year                         int64\n",
       "Functional Class Code        int64\n",
       "Vehicle Miles Travelled    float64\n",
       "dtype: object"
      ]
     },
     "execution_count": 25,
     "metadata": {},
     "output_type": "execute_result"
    }
   ],
   "source": [
    "data.head(10) #for printing the top 10 rows \n",
    "data.dtypes # for checking the data tpes of a values present in data\n"
   ]
  },
  {
   "cell_type": "code",
   "execution_count": 26,
   "metadata": {},
   "outputs": [
    {
     "data": {
      "text/html": [
       "<div>\n",
       "<style scoped>\n",
       "    .dataframe tbody tr th:only-of-type {\n",
       "        vertical-align: middle;\n",
       "    }\n",
       "\n",
       "    .dataframe tbody tr th {\n",
       "        vertical-align: top;\n",
       "    }\n",
       "\n",
       "    .dataframe thead th {\n",
       "        text-align: right;\n",
       "    }\n",
       "</style>\n",
       "<table border=\"1\" class=\"dataframe\">\n",
       "  <thead>\n",
       "    <tr style=\"text-align: right;\">\n",
       "      <th></th>\n",
       "      <th>Urban Area</th>\n",
       "      <th>Year</th>\n",
       "      <th>Functional Class Code</th>\n",
       "      <th>Vehicle Miles Travelled</th>\n",
       "    </tr>\n",
       "  </thead>\n",
       "  <tbody>\n",
       "    <tr>\n",
       "      <td>count</td>\n",
       "      <td>1614.000000</td>\n",
       "      <td>1614.000000</td>\n",
       "      <td>1614.000000</td>\n",
       "      <td>1614.000000</td>\n",
       "    </tr>\n",
       "    <tr>\n",
       "      <td>mean</td>\n",
       "      <td>0.998141</td>\n",
       "      <td>1999.517348</td>\n",
       "      <td>11.716853</td>\n",
       "      <td>18310.558860</td>\n",
       "    </tr>\n",
       "    <tr>\n",
       "      <td>std</td>\n",
       "      <td>0.817127</td>\n",
       "      <td>8.748572</td>\n",
       "      <td>5.264463</td>\n",
       "      <td>16446.432845</td>\n",
       "    </tr>\n",
       "    <tr>\n",
       "      <td>min</td>\n",
       "      <td>0.000000</td>\n",
       "      <td>1985.000000</td>\n",
       "      <td>1.000000</td>\n",
       "      <td>155.000000</td>\n",
       "    </tr>\n",
       "    <tr>\n",
       "      <td>25%</td>\n",
       "      <td>0.000000</td>\n",
       "      <td>1992.000000</td>\n",
       "      <td>8.000000</td>\n",
       "      <td>2922.500000</td>\n",
       "    </tr>\n",
       "    <tr>\n",
       "      <td>50%</td>\n",
       "      <td>1.000000</td>\n",
       "      <td>1999.000000</td>\n",
       "      <td>12.000000</td>\n",
       "      <td>14023.000000</td>\n",
       "    </tr>\n",
       "    <tr>\n",
       "      <td>75%</td>\n",
       "      <td>2.000000</td>\n",
       "      <td>2007.000000</td>\n",
       "      <td>16.000000</td>\n",
       "      <td>28396.000000</td>\n",
       "    </tr>\n",
       "    <tr>\n",
       "      <td>max</td>\n",
       "      <td>2.000000</td>\n",
       "      <td>2016.000000</td>\n",
       "      <td>19.000000</td>\n",
       "      <td>60855.000000</td>\n",
       "    </tr>\n",
       "  </tbody>\n",
       "</table>\n",
       "</div>"
      ],
      "text/plain": [
       "        Urban Area         Year  Functional Class Code  \\\n",
       "count  1614.000000  1614.000000            1614.000000   \n",
       "mean      0.998141  1999.517348              11.716853   \n",
       "std       0.817127     8.748572               5.264463   \n",
       "min       0.000000  1985.000000               1.000000   \n",
       "25%       0.000000  1992.000000               8.000000   \n",
       "50%       1.000000  1999.000000              12.000000   \n",
       "75%       2.000000  2007.000000              16.000000   \n",
       "max       2.000000  2016.000000              19.000000   \n",
       "\n",
       "       Vehicle Miles Travelled  \n",
       "count              1614.000000  \n",
       "mean              18310.558860  \n",
       "std               16446.432845  \n",
       "min                 155.000000  \n",
       "25%                2922.500000  \n",
       "50%               14023.000000  \n",
       "75%               28396.000000  \n",
       "max               60855.000000  "
      ]
     },
     "execution_count": 26,
     "metadata": {},
     "output_type": "execute_result"
    }
   ],
   "source": [
    "data.shape # to show the number of rows and column \n",
    "data.describe() # to show statistical summary"
   ]
  },
  {
   "cell_type": "code",
   "execution_count": 27,
   "metadata": {},
   "outputs": [
    {
     "data": {
      "text/plain": [
       "array([[<matplotlib.axes._subplots.AxesSubplot object at 0x00000158B7D7E5C8>,\n",
       "        <matplotlib.axes._subplots.AxesSubplot object at 0x00000158B7E51188>],\n",
       "       [<matplotlib.axes._subplots.AxesSubplot object at 0x00000158B7E7AE48>,\n",
       "        <matplotlib.axes._subplots.AxesSubplot object at 0x00000158B7EB7408>]],\n",
       "      dtype=object)"
      ]
     },
     "execution_count": 27,
     "metadata": {},
     "output_type": "execute_result"
    },
    {
     "data": {
      "image/png": "[encoded data removed]",
      "text/plain": [
       "<Figure size 432x288 with 4 Axes>"
      ]
     },
     "metadata": {
      "needs_background": "light"
     },
     "output_type": "display_data"
    }
   ],
   "source": [
    "data.plot(kind = 'density',subplots=True,layout=(2,2),sharex=False,sharey=False) #visualization in the form of Density "
   ]
  },
  {
   "cell_type": "code",
   "execution_count": 28,
   "metadata": {},
   "outputs": [
    {
     "data": {
      "text/plain": [
       "Urban Area\n",
       "0    540\n",
       "1    537\n",
       "2    537\n",
       "dtype: int64"
      ]
     },
     "execution_count": 28,
     "metadata": {},
     "output_type": "execute_result"
    }
   ],
   "source": [
    "data.groupby('Urban Area').size() #To find the number of dstinct urban area  "
   ]
  },
  {
   "cell_type": "code",
   "execution_count": 32,
   "metadata": {},
   "outputs": [
    {
     "name": "stdout",
     "output_type": "stream",
     "text": [
      "1614\n",
      "1614\n"
     ]
    }
   ],
   "source": [
    "x = data.iloc[:,1:4] #defining the lables to fit into model\n",
    "\n",
    "y= data.iloc[:,0] #defining the target to fit into model\n",
    "\n",
    "print(len(x)) #showing the total length of lables\n",
    "\n",
    "print(len(y)) #showing the total length of target"
   ]
  },
  {
   "cell_type": "code",
   "execution_count": 33,
   "metadata": {},
   "outputs": [],
   "source": [
    "x_train, x_test, y_train, y_test = train_test_split(x,y,test_size = 0.4) #splitting dataset into training and testing datset"
   ]
  },
  {
   "cell_type": "code",
   "execution_count": 34,
   "metadata": {},
   "outputs": [
    {
     "name": "stdout",
     "output_type": "stream",
     "text": [
      "[0 2 2 2 1 1 0 1 0 2 0 2 1 1 1 0 1 1 0 2 2 0 2 0 0 1 1 1 2 0 0 0 0 1 2 2 0\n",
      " 2 1 1 1 2 1 1 1 0 1 0 2 1 0 0 2 2 2 0 2 2 1 0 2 1 0 0 1 2 0 2 0 2 2 1 1 2\n",
      " 2 0 2 2 1 1 1 2 1 2 0 0 1 0 1 2 0 1 0 2 1 2 1 1 1 2 1 0 1 0 2 0 0 0 1 0 0\n",
      " 0 1 2 1 1 2 2 1 2 0 2 1 0 1 0 0 0 1 1 1 0 2 1 0 0 0 0 2 2 0 2 1 1 2 1 1 2\n",
      " 2 2 0 2 2 2 1 2 2 0 1 2 1 0 2 0 1 2 1 1 2 1 1 0 1 0 2 1 2 1 0 2 1 0 0 2 0\n",
      " 1 0 1 2 1 1 2 2 0 0 1 1 0 0 0 0 0 2 2 2 0 0 1 2 0 2 0 2 0 2 2 1 2 0 0 2 1\n",
      " 0 1 1 0 0 2 2 0 0 2 1 0 1 2 1 2 2 2 0 1 2 1 1 1 2 2 0 1 2 2 0 2 0 0 2 0 0\n",
      " 0 0 2 0 1 2 2 0 2 0 1 0 2 1 0 0 0 0 0 2 1 2 1 2 1 1 2 1 1 1 1 0 1 2 0 2 2\n",
      " 1 2 0 0 0 2 1 2 1 2 1 2 1 1 2 0 1 2 1 1 2 1 0 2 1 0 0 0 2 2 2 2 1 2 2 2 1\n",
      " 2 1 1 0 0 1 1 2 1 0 2 2 2 2 2 2 0 1 2 2 0 2 2 1 1 2 2 1 0 2 1 2 2 0 1 2 2\n",
      " 0 2 0 1 1 1 1 0 1 1 2 0 2 0 2 1 2 2 0 2 1 0 1 0 2 0 2 1 1 0 1 0 1 2 2 1 0\n",
      " 0 0 1 0 0 1 2 1 0 2 2 2 0 1 0 1 1 2 2 2 0 1 2 1 1 1 2 0 0 1 0 0 0 1 0 0 0\n",
      " 1 0 1 0 0 1 2 0 1 2 0 2 2 2 2 0 1 2 0 1 0 0 1 2 1 2 1 1 1 0 0 2 0 0 1 0 0\n",
      " 1 2 2 2 2 2 2 1 0 2 1 2 0 2 1 2 2 0 0 0 2 2 2 1 2 1 1 2 1 1 0 2 1 1 0 0 1\n",
      " 0 2 0 2 1 1 2 0 2 0 1 1 1 2 1 2 1 1 2 2 2 0 2 2 2 1 1 1 1 1 0 0 2 1 0 2 2\n",
      " 0 0 2 1 1 2 2 2 0 0 1 2 0 1 2 2 1 0 2 1 0 0 1 2 0 1 1 0 0 2 0 0 2 1 2 1 1\n",
      " 0 2 1 1 2 2 0 0 1 1 2 0 0 0 2 1 1 2 1 0 2 1 0 2 0 0 1 1 1 2 1 1 2 2 0 2 2\n",
      " 1 0 2 1 2 0 0 0 0 2 2 0 1 1 1 1 2]\n"
     ]
    }
   ],
   "source": [
    "#Applying naive bayse algorithm with gaussian likelyhood function\n",
    "from sklearn.naive_bayes import GaussianNB\n",
    "model = GaussianNB()\n",
    "model.fit(x_train,y_train)\n",
    "y_pred = model.predict(x_test) # predicting the values.\n",
    "print(y_pred)"
   ]
  },
  {
   "cell_type": "code",
   "execution_count": 35,
   "metadata": {},
   "outputs": [
    {
     "name": "stdout",
     "output_type": "stream",
     "text": [
      "Accuracy of Model: 0.9984520123839009\n",
      "Accuracy for Naive bayes classifier on training set: 1.00\n",
      "Accuracy for Naive bayes classifier on test set: 1.00\n"
     ]
    }
   ],
   "source": [
    "# Calculating the Accuracy\n",
    "from sklearn import metrics\n",
    "print(\"Accuracy of Model:\",metrics.accuracy_score(y_test, y_pred))\n",
    "\n",
    "print('Accuracy for Naive bayes classifier on training set: {:.2f}'\n",
    "     .format(model.score(x_train, y_train)))\n",
    "print('Accuracy for Naive bayes classifier on test set: {:.2f}'\n",
    "     .format(model.score(x_test, y_test)))"
   ]
  },
  {
   "cell_type": "code",
   "execution_count": 36,
   "metadata": {},
   "outputs": [
    {
     "data": {
      "text/plain": [
       "array([0, 2, 2, 2, 1, 1, 0, 1, 0, 2, 0, 2, 1, 1, 1, 0, 1, 1, 0, 0, 2, 0,\n",
       "       2, 0, 0, 1, 1, 1, 2, 0, 0, 0, 0, 1, 2, 0, 0, 2, 1, 1, 1, 2, 1, 1,\n",
       "       1, 0, 1, 0, 0, 1, 0, 0, 2, 0, 2, 0, 2, 2, 1, 0, 2, 1, 0, 0, 1, 2,\n",
       "       0, 2, 0, 2, 2, 1, 1, 2, 2, 0, 2, 2, 1, 1, 1, 2, 1, 2, 0, 0, 1, 0,\n",
       "       1, 2, 0, 1, 0, 2, 1, 2, 1, 1, 1, 2, 1, 2, 1, 0, 2, 0, 2, 0, 1, 0,\n",
       "       0, 0, 1, 2, 1, 1, 2, 0, 1, 2, 0, 2, 1, 0, 1, 0, 0, 0, 1, 1, 1, 2,\n",
       "       2, 1, 0, 2, 0, 0, 2, 2, 2, 2, 1, 1, 2, 1, 1, 0, 2, 2, 0, 2, 2, 0,\n",
       "       1, 2, 2, 0, 1, 2, 1, 0, 0, 2, 1, 2, 1, 1, 2, 1, 1, 2, 1, 2, 2, 1,\n",
       "       2, 1, 0, 2, 1, 0, 0, 2, 0, 1, 0, 1, 2, 1, 1, 2, 0, 0, 0, 1, 1, 0,\n",
       "       0, 1, 2, 0, 2, 2, 2, 0, 2, 1, 0, 0, 2, 0, 2, 0, 0, 2, 1, 0, 0, 0,\n",
       "       2, 1, 2, 1, 1, 0, 0, 2, 2, 0, 0, 2, 1, 0, 1, 2, 1, 2, 2, 2, 0, 1,\n",
       "       2, 1, 1, 1, 2, 2, 2, 1, 2, 0, 2, 2, 0, 0, 0, 0, 0, 0, 0, 2, 0, 1,\n",
       "       0, 2, 0, 0, 0, 1, 0, 2, 1, 0, 0, 0, 0, 0, 2, 1, 2, 1, 2, 1, 1, 2,\n",
       "       1, 1, 1, 1, 0, 1, 2, 0, 2, 2, 1, 2, 0, 0, 0, 2, 1, 0, 1, 2, 1, 0,\n",
       "       1, 1, 2, 0, 1, 2, 1, 1, 2, 1, 0, 2, 1, 0, 0, 0, 2, 2, 2, 2, 1, 2,\n",
       "       0, 2, 1, 2, 1, 1, 0, 0, 1, 1, 2, 1, 0, 2, 2, 2, 2, 2, 2, 0, 1, 0,\n",
       "       2, 0, 0, 2, 1, 1, 0, 2, 1, 0, 2, 1, 2, 2, 0, 1, 2, 0, 0, 2, 0, 1,\n",
       "       1, 1, 1, 0, 1, 1, 2, 0, 0, 0, 0, 1, 2, 2, 0, 2, 1, 0, 1, 0, 2, 0,\n",
       "       2, 1, 1, 0, 1, 0, 1, 2, 2, 1, 0, 0, 0, 1, 0, 0, 1, 0, 1, 0, 2, 2,\n",
       "       2, 0, 1, 0, 1, 1, 2, 2, 2, 0, 1, 2, 1, 1, 1, 2, 0, 0, 1, 0, 0, 0,\n",
       "       1, 0, 0, 0, 1, 0, 1, 0, 0, 1, 2, 0, 1, 2, 0, 2, 2, 2, 2, 0, 1, 2,\n",
       "       0, 1, 0, 2, 1, 2, 1, 2, 1, 1, 1, 2, 0, 2, 0, 2, 1, 0, 0, 1, 2, 2,\n",
       "       2, 2, 2, 2, 1, 0, 0, 1, 2, 0, 2, 1, 2, 2, 0, 0, 0, 2, 2, 2, 1, 2,\n",
       "       1, 1, 0, 1, 1, 0, 2, 1, 1, 0, 0, 1, 2, 2, 2, 2, 1, 1, 2, 0, 2, 0,\n",
       "       1, 1, 1, 2, 1, 0, 1, 1, 2, 2, 2, 0, 0, 2, 2, 1, 1, 1, 1, 1, 0, 0,\n",
       "       0, 1, 0, 2, 0, 0, 0, 2, 1, 1, 2, 2, 2, 0, 0, 1, 2, 0, 1, 2, 2, 1,\n",
       "       0, 0, 1, 0, 0, 1, 2, 2, 1, 1, 0, 0, 2, 0, 0, 2, 1, 2, 1, 1, 0, 2,\n",
       "       1, 1, 0, 2, 0, 0, 1, 1, 2, 0, 0, 0, 0, 1, 1, 0, 1, 0, 2, 1, 0, 2,\n",
       "       2, 0, 1, 1, 1, 2, 1, 1, 0, 2, 2, 0, 2, 1, 0, 0, 1, 0, 0, 0, 0, 0,\n",
       "       2, 2, 0, 1, 1, 1, 1, 2])"
      ]
     },
     "execution_count": 36,
     "metadata": {},
     "output_type": "execute_result"
    }
   ],
   "source": [
    "#Applying naive bayse algorithm with Multinomial likelyhood function\n",
    "from sklearn.naive_bayes import MultinomialNB\n",
    "model = MultinomialNB()\n",
    "model.fit(x_train,y_train)\n",
    "y_pred = model.predict(x_test)\n",
    "y_pred"
   ]
  },
  {
   "cell_type": "code",
   "execution_count": 37,
   "metadata": {},
   "outputs": [
    {
     "name": "stdout",
     "output_type": "stream",
     "text": [
      "Accuracy of Model: 0.9024767801857585\n",
      "Accuracy for Naive bayes classifier on training set: 0.90\n",
      "Accuracy for Naive bayes classifier on test set: 0.90\n"
     ]
    }
   ],
   "source": [
    "# Calculating the Accuracy\n",
    "from sklearn import metrics\n",
    "print(\"Accuracy of Model:\",metrics.accuracy_score(y_test, y_pred))\n",
    "\n",
    "print('Accuracy for Naive bayes classifier on training set: {:.2f}'\n",
    "     .format(model.score(x_train, y_train)))\n",
    "print('Accuracy for Naive bayes classifier on test set: {:.2f}'\n",
    "     .format(model.score(x_test, y_test)))"
   ]
  }
 ],
 "metadata": {
  "kernelspec": {
   "display_name": "Python 3",
   "language": "python",
   "name": "python3"
  },
  "language_info": {
   "codemirror_mode": {
    "name": "ipython",
    "version": 3
   },
   "file_extension": ".py",
   "mimetype": "text/x-python",
   "name": "python",
   "nbconvert_exporter": "python",
   "pygments_lexer": "ipython3",
   "version": "3.7.4"
  }
 },
 "nbformat": 4,
 "nbformat_minor": 2
}
